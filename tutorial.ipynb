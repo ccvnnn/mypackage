{
 "cells": [
  {
   "cell_type": "markdown",
   "id": "28e2fc61-34cf-4cc8-87e4-f03f02d33c02",
   "metadata": {},
   "source": [
    "## Tutorial for `mypackage`"
   ]
  },
  {
   "cell_type": "markdown",
   "id": "4fe4a712-96a1-4d50-8cea-78d161e9268e",
   "metadata": {},
   "source": [
    "This packet can be used to mainly analyse datasets (correlation, survival_rate etc.) and also visualize them accordingly.\n",
    "This packet especially used the \"titanic\" dataset offered by \"seaborn\"."
   ]
  },
  {
   "cell_type": "markdown",
   "id": "1be9174d-a9fb-4e68-b9ca-409670683bf4",
   "metadata": {},
   "source": [
    "To get started, we first check in which environment our package is in and activate the right environment.\n",
    ">We have to be in the right environment to use the package!<\n",
    "\n",
    "After we activate the right environment we can also quickly use `!conda info` to doublecheck if we are in the right environment."
   ]
  },
  {
   "cell_type": "code",
   "execution_count": 1,
   "id": "b94f4cc6-29b6-44a5-baaa-380427dfa1ce",
   "metadata": {
    "scrolled": true
   },
   "outputs": [
    {
     "name": "stdout",
     "output_type": "stream",
     "text": [
      "Package                       Version     Editable project location\n",
      "----------------------------- ----------- ----------------------------------------------------------------------------\n",
      "aiohappyeyeballs              2.4.4\n",
      "aiohttp                       3.11.10\n",
      "aiosignal                     1.2.0\n",
      "alabaster                     0.7.16\n",
      "anyio                         4.6.2\n",
      "applaunchservices             0.3.0\n",
      "appnope                       0.1.3\n",
      "argon2-cffi                   21.3.0\n",
      "argon2-cffi-bindings          21.2.0\n",
      "arrow                         1.3.0\n",
      "astroid                       3.3.8\n",
      "asttokens                     2.0.5\n",
      "async-lru                     2.0.4\n",
      "asyncssh                      2.17.0\n",
      "atomicwrites                  1.4.0\n",
      "attrs                         24.3.0\n",
      "autopep8                      2.0.4\n",
      "babel                         2.16.0\n",
      "backcall                      0.2.0\n",
      "beautifulsoup4                4.12.3\n",
      "binaryornot                   0.4.4\n",
      "black                         24.10.0\n",
      "bleach                        6.2.0\n",
      "Brotli                        1.0.9\n",
      "certifi                       2025.1.31\n",
      "cffi                          1.17.1\n",
      "chardet                       4.0.0\n",
      "charset-normalizer            3.3.2\n",
      "click                         8.1.7\n",
      "cloudpickle                   3.0.0\n",
      "comm                          0.2.1\n",
      "contourpy                     1.3.1\n",
      "cookiecutter                  2.6.0\n",
      "cryptography                  43.0.3\n",
      "cycler                        0.12.1\n",
      "debugpy                       1.8.11\n",
      "decorator                     5.1.1\n",
      "defusedxml                    0.7.1\n",
      "Deprecated                    1.2.13\n",
      "diff-match-patch              20200713\n",
      "dill                          0.3.8\n",
      "docopt                        0.6.2\n",
      "docstring-to-markdown         0.11\n",
      "docutils                      0.18.1\n",
      "executing                     0.8.3\n",
      "fastjsonschema                2.20.0\n",
      "flake8                        7.1.1\n",
      "fonttools                     4.56.0\n",
      "frozenlist                    1.5.0\n",
      "h11                           0.14.0\n",
      "httpcore                      1.0.2\n",
      "httpx                         0.27.0\n",
      "idna                          3.7\n",
      "imagesize                     1.4.1\n",
      "importlib_metadata            8.5.0\n",
      "inflection                    0.5.1\n",
      "intervaltree                  3.1.0\n",
      "ipykernel                     6.29.5\n",
      "ipython                       8.12.3\n",
      "isort                         5.13.2\n",
      "jaraco.classes                3.2.1\n",
      "jedi                          0.19.2\n",
      "jellyfish                     1.1.3\n",
      "Jinja2                        3.1.5\n",
      "json5                         0.9.25\n",
      "jsonschema                    4.23.0\n",
      "jsonschema-specifications     2023.7.1\n",
      "jupyter_client                8.6.3\n",
      "jupyter_core                  5.7.2\n",
      "jupyter-events                0.10.0\n",
      "jupyter-lsp                   2.2.0\n",
      "jupyter_server                2.14.1\n",
      "jupyter_server_terminals      0.4.4\n",
      "jupyterlab                    4.3.4\n",
      "jupyterlab-pygments           0.1.2\n",
      "jupyterlab_server             2.27.3\n",
      "keyring                       24.3.1\n",
      "kiwisolver                    1.4.8\n",
      "markdown-it-py                2.2.0\n",
      "MarkupSafe                    3.0.2\n",
      "matplotlib                    3.10.1\n",
      "matplotlib-inline             0.1.6\n",
      "mccabe                        0.7.0\n",
      "mdurl                         0.1.0\n",
      "mistune                       2.0.4\n",
      "more-itertools                10.3.0\n",
      "multidict                     6.1.0\n",
      "mypackage                     0.1         /Users/can/Documents/UNI/WiSe 24:25/Intro-to-Python/python package/mypackage\n",
      "mypy-extensions               1.0.0\n",
      "nbclient                      0.8.0\n",
      "nbconvert                     7.16.4\n",
      "nbformat                      5.10.4\n",
      "nest-asyncio                  1.6.0\n",
      "notebook_shim                 0.2.3\n",
      "numpy                         2.2.4\n",
      "numpydoc                      1.7.0\n",
      "overrides                     7.4.0\n",
      "packaging                     24.2\n",
      "pandas                        2.2.3\n",
      "pandocfilters                 1.5.0\n",
      "parso                         0.8.4\n",
      "pathlib                       1.0.1\n",
      "pathspec                      0.10.3\n",
      "pexpect                       4.8.0\n",
      "pickleshare                   0.7.5\n",
      "pillow                        11.1.0\n",
      "pip                           25.0\n",
      "pipreq                        0.4\n",
      "pipreqs                       0.5.0\n",
      "platformdirs                  3.10.0\n",
      "pluggy                        1.5.0\n",
      "ply                           3.11\n",
      "prometheus_client             0.21.0\n",
      "prompt-toolkit                3.0.43\n",
      "propcache                     0.2.0\n",
      "psutil                        5.9.0\n",
      "ptyprocess                    0.7.0\n",
      "pure-eval                     0.2.2\n",
      "pycodestyle                   2.12.1\n",
      "pycparser                     2.21\n",
      "pydocstyle                    6.3.0\n",
      "pyflakes                      3.2.0\n",
      "PyGithub                      2.4.0\n",
      "Pygments                      2.15.1\n",
      "PyJWT                         2.10.1\n",
      "pylint                        3.3.3\n",
      "pylint-venv                   3.0.3\n",
      "pyls-spyder                   0.4.0\n",
      "PyNaCl                        1.5.0\n",
      "pyobjc-core                   10.1\n",
      "pyobjc-framework-Cocoa        10.1\n",
      "pyobjc-framework-CoreServices 10.1\n",
      "pyobjc-framework-FSEvents     10.1\n",
      "pyparsing                     3.2.1\n",
      "PyQt5                         5.15.10\n",
      "PyQt5_sip                     12.13.0\n",
      "PyQtWebEngine                 5.15.6\n",
      "PySocks                       1.7.1\n",
      "python-dateutil               2.9.0.post0\n",
      "python-json-logger            3.2.1\n",
      "python-lsp-black              2.0.0\n",
      "python-lsp-jsonrpc            1.1.2\n",
      "python-lsp-server             1.12.0\n",
      "python-slugify                5.0.2\n",
      "pytoolconfig                  1.2.6\n",
      "pytz                          2025.1\n",
      "pyuca                         1.2\n",
      "PyYAML                        6.0.2\n",
      "pyzmq                         26.2.0\n",
      "QDarkStyle                    3.2.3\n",
      "qstylizer                     0.2.2\n",
      "QtAwesome                     1.3.1\n",
      "qtconsole                     5.6.1\n",
      "QtPy                          2.4.1\n",
      "referencing                   0.30.2\n",
      "requests                      2.32.3\n",
      "rfc3339-validator             0.1.4\n",
      "rfc3986-validator             0.1.1\n",
      "rich                          13.9.4\n",
      "rope                          1.12.0\n",
      "rpds-py                       0.22.3\n",
      "Rtree                         1.0.1\n",
      "scipy                         1.15.2\n",
      "seaborn                       0.13.2\n",
      "Send2Trash                    1.8.2\n",
      "setuptools                    75.8.0\n",
      "sip                           6.7.12\n",
      "six                           1.16.0\n",
      "sniffio                       1.3.0\n",
      "snowballstemmer               2.2.0\n",
      "sortedcontainers              2.4.0\n",
      "soupsieve                     2.5\n",
      "Sphinx                        7.3.7\n",
      "sphinxcontrib-applehelp       1.0.2\n",
      "sphinxcontrib-devhelp         1.0.2\n",
      "sphinxcontrib-htmlhelp        2.0.0\n",
      "sphinxcontrib-jsmath          1.0.1\n",
      "sphinxcontrib-qthelp          1.0.3\n",
      "sphinxcontrib-serializinghtml 1.1.10\n",
      "spyder                        6.0.3\n",
      "spyder-kernels                3.0.2\n",
      "stack-data                    0.2.0\n",
      "superqt                       0.6.7\n",
      "tabulate                      0.9.0\n",
      "terminado                     0.17.1\n",
      "text-unidecode                1.3\n",
      "textdistance                  4.6.3\n",
      "three-merge                   0.1.1\n",
      "tinycss2                      1.4.0\n",
      "tomli                         2.0.1\n",
      "tomlkit                       0.13.2\n",
      "tornado                       6.4.2\n",
      "traitlets                     5.14.3\n",
      "typing_extensions             4.12.2\n",
      "tzdata                        2025.1\n",
      "ujson                         5.10.0\n",
      "Unidecode                     1.3.8\n",
      "urllib3                       2.3.0\n",
      "watchdog                      4.0.2\n",
      "wcwidth                       0.2.5\n",
      "webencodings                  0.5.1\n",
      "websocket-client              1.8.0\n",
      "whatthepatch                  1.0.2\n",
      "wheel                         0.45.1\n",
      "wrapt                         1.17.0\n",
      "wurlitzer                     3.0.2\n",
      "yapf                          0.40.2\n",
      "yarg                          0.1.9\n",
      "yarl                          1.18.0\n",
      "zipp                          3.21.0\n",
      "Note: you may need to restart the kernel to use updated packages.\n"
     ]
    }
   ],
   "source": [
    "%pip list"
   ]
  },
  {
   "cell_type": "code",
   "execution_count": 1,
   "id": "5ce07e96-ba30-4175-ac91-ef6e86f0d1d8",
   "metadata": {
    "scrolled": true
   },
   "outputs": [
    {
     "name": "stdout",
     "output_type": "stream",
     "text": [
      "\n",
      "     active environment : mypackage-env\n",
      "    active env location : /Users/can/anaconda3/envs/mypackage-env\n",
      "            shell level : 3\n",
      "       user config file : /Users/can/.condarc\n",
      " populated config files : /Users/can/.condarc\n",
      "          conda version : 24.11.3\n",
      "    conda-build version : 25.1.2\n",
      "         python version : 3.11.5.final.0\n",
      "                 solver : libmamba (default)\n",
      "       virtual packages : __archspec=1=m2\n",
      "                          __conda=24.11.3=0\n",
      "                          __osx=15.3.2=0\n",
      "                          __unix=0=0\n",
      "       base environment : /Users/can/anaconda3  (writable)\n",
      "      conda av data dir : /Users/can/anaconda3/etc/conda\n",
      "  conda av metadata url : None\n",
      "           channel URLs : https://repo.anaconda.com/pkgs/main/osx-arm64\n",
      "                          https://repo.anaconda.com/pkgs/main/noarch\n",
      "                          https://repo.anaconda.com/pkgs/r/osx-arm64\n",
      "                          https://repo.anaconda.com/pkgs/r/noarch\n",
      "          package cache : /Users/can/anaconda3/pkgs\n",
      "                          /Users/can/.conda/pkgs\n",
      "       envs directories : /Users/can/anaconda3/envs\n",
      "                          /Users/can/.conda/envs\n",
      "               platform : osx-arm64\n",
      "             user-agent : conda/24.11.3 requests/2.32.3 CPython/3.11.5 Darwin/24.3.0 OSX/15.3.2 solver/libmamba conda-libmamba-solver/24.9.0 libmambapy/1.5.8 aau/0.4.2 c/_CNZPufR8291lSvs0n7h3w s/MJQ4LXGzLuGA1W1CLW98Zg e/VaxSNE6FnuUQeWDfS9loBg\n",
      "                UID:GID : 501:20\n",
      "             netrc file : None\n",
      "           offline mode : False\n",
      "\n",
      "\n",
      "Note: you may need to restart the kernel to use updated packages.\n"
     ]
    }
   ],
   "source": [
    "%conda info"
   ]
  },
  {
   "cell_type": "markdown",
   "id": "000d2c11-7274-4e66-8bc8-4e2617fb4920",
   "metadata": {},
   "source": [
    "#### Now we can finally import our package!"
   ]
  },
  {
   "cell_type": "markdown",
   "id": "b06ffab1",
   "metadata": {},
   "source": [
    "First we import our two python files containing the analysis and the visualization of the analysis."
   ]
  },
  {
   "cell_type": "code",
   "execution_count": 4,
   "id": "39013c9a",
   "metadata": {},
   "outputs": [],
   "source": [
    "from mypackage.analysis import data, Analyzer\n",
    "from mypackage.visualization import data, Visualizer"
   ]
  },
  {
   "cell_type": "markdown",
   "id": "8075a32d",
   "metadata": {},
   "source": [
    "We now save the classes with the data into new variables so we can easier call the functions within those classes."
   ]
  },
  {
   "cell_type": "code",
   "execution_count": 5,
   "id": "398441ae",
   "metadata": {},
   "outputs": [],
   "source": [
    "analyzer = Analyzer(data)\n",
    "visualizer = Visualizer(data)"
   ]
  },
  {
   "cell_type": "markdown",
   "id": "b6080304",
   "metadata": {},
   "source": [
    "### What do the 2 classes actually do?"
   ]
  },
  {
   "cell_type": "code",
   "execution_count": 6,
   "id": "e0397f18",
   "metadata": {},
   "outputs": [
    {
     "name": "stdout",
     "output_type": "stream",
     "text": [
      "The Analyzer class provides methods for statistical and categorical\n",
      "    analyses of the Titanic dataset.\n",
      "    \n",
      "    \n",
      "    Attributes\n",
      "    ----------\n",
      "    data: pandas.DataFrame\n",
      "        The Titanic dataset that is going to be analyzed.\n",
      "    \n",
      "    \n",
      "Visualizer creates visualizations of the analyzed data through the 'Analyzer' class.\n",
      "    It includes methods for plotting distributions, generating heatmaps and\n",
      "    creating scatterplots.\n",
      "    \n",
      "    \n",
      "    Attributes\n",
      "    ----------\n",
      "    data: pandas.DataFrame\n",
      "        The Titanic dataset that is going to be analyzed.\n",
      "    \n",
      "    \n"
     ]
    }
   ],
   "source": [
    "print(analyzer.__doc__)\n",
    "print(visualizer.__doc__)\n"
   ]
  },
  {
   "cell_type": "markdown",
   "id": "8134790d",
   "metadata": {},
   "source": [
    "#### Now we can finally look at the different functions within our classes!\n",
    "We first have a look into the `Analyzer` class and its functions."
   ]
  },
  {
   "cell_type": "markdown",
   "id": "07e02ce8",
   "metadata": {},
   "source": []
  }
 ],
 "metadata": {
  "kernelspec": {
   "display_name": "mypackage-env",
   "language": "python",
   "name": "python3"
  },
  "language_info": {
   "codemirror_mode": {
    "name": "ipython",
    "version": 3
   },
   "file_extension": ".py",
   "mimetype": "text/x-python",
   "name": "python",
   "nbconvert_exporter": "python",
   "pygments_lexer": "ipython3",
   "version": "3.12.9"
  }
 },
 "nbformat": 4,
 "nbformat_minor": 5
}
